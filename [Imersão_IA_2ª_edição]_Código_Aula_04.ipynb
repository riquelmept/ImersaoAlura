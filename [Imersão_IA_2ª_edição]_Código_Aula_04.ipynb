{
  "cells": [
    {
      "cell_type": "code",
      "execution_count": 2,
      "metadata": {
        "id": "nFQLKQ6hfXch"
      },
      "outputs": [],
      "source": [
        "#Instalando o SDK do Google\n",
        "!pip install -q -U google-generativeai"
      ]
    },
    {
      "cell_type": "code",
      "execution_count": 6,
      "metadata": {
        "id": "IthzwfnAfcsi"
      },
      "outputs": [],
      "source": [
        "#Configurações iniciais\n",
        "import google.generativeai as genai\n",
        "\n",
        "GOOGLE_API_KEY=\"CHAVE API\"\n",
        "genai.configure(api_key=GOOGLE_API_KEY)"
      ]
    },
    {
      "cell_type": "code",
      "execution_count": 7,
      "metadata": {
        "colab": {
          "base_uri": "https://localhost:8080/",
          "height": 139
        },
        "id": "iD3ihugymWBt",
        "outputId": "cf188904-5640-436d-8210-19e08a18a8e2"
      },
      "outputs": [
        {
          "name": "stdout",
          "output_type": "stream",
          "text": [
            "models/gemini-1.0-pro\n",
            "models/gemini-1.0-pro-001\n",
            "models/gemini-1.0-pro-latest\n",
            "models/gemini-1.0-pro-vision-latest\n",
            "models/gemini-1.5-pro-latest\n",
            "models/gemini-pro\n",
            "models/gemini-pro-vision\n"
          ]
        }
      ],
      "source": [
        "#Listando os modelos disponíveis\n",
        "for m in genai.list_models():\n",
        "  if 'generateContent' in m.supported_generation_methods:\n",
        "    print(m.name)"
      ]
    },
    {
      "cell_type": "code",
      "execution_count": 8,
      "metadata": {
        "id": "O1ochaeyDn_o"
      },
      "outputs": [],
      "source": [
        "generation_config = {\n",
        "  \"candidate_count\": 1,\n",
        "  \"temperature\": 0.5,\n",
        "}"
      ]
    },
    {
      "cell_type": "code",
      "execution_count": 9,
      "metadata": {
        "id": "jwBv7DofDofw"
      },
      "outputs": [],
      "source": [
        "safety_settings={\n",
        "    'HATE': 'BLOCK_NONE',\n",
        "    'HARASSMENT': 'BLOCK_NONE',\n",
        "    'SEXUAL' : 'BLOCK_NONE',\n",
        "    'DANGEROUS' : 'BLOCK_NONE'\n",
        "    }"
      ]
    },
    {
      "cell_type": "code",
      "execution_count": 10,
      "metadata": {
        "id": "NIiSs1R5mVJE"
      },
      "outputs": [],
      "source": [
        "model = genai.GenerativeModel(model_name='gemini-1.0-pro',\n",
        "                                  generation_config=generation_config,\n",
        "                                  safety_settings=safety_settings,)"
      ]
    },
    {
      "cell_type": "code",
      "execution_count": 11,
      "metadata": {
        "colab": {
          "base_uri": "https://localhost:8080/",
          "height": 35
        },
        "id": "vrRjhT2rlrU_",
        "outputId": "83f85536-876d-4b0c-9407-7ded7d2fd1d0"
      },
      "outputs": [
        {
          "data": {
            "application/vnd.google.colaboratory.intrinsic+json": {
              "type": "string"
            },
            "text/plain": [
              "'Google'"
            ]
          },
          "execution_count": 11,
          "metadata": {},
          "output_type": "execute_result"
        }
      ],
      "source": [
        "response = model.generate_content(\"Que empresa criou o modelo de IA Gemini?\")\n",
        "response.text"
      ]
    },
    {
      "cell_type": "code",
      "execution_count": 12,
      "metadata": {
        "colab": {
          "base_uri": "https://localhost:8080/",
          "height": 1000
        },
        "id": "KpaQ6hm5f2_J",
        "outputId": "72a86a8d-92e4-4a53-f225-20ea1f75fe75"
      },
      "outputs": [
        {
          "name": "stdout",
          "output_type": "stream",
          "text": [
            "Esperando prompt: Quais são as principais indústrias do agronegócio (Soja, Milho, Cana de Açúcar) no Brasil?\n",
            "Resposta: **Principais Indústrias do Agronegócio no Brasil (Soja, Milho, Cana de Açúcar)**\n",
            "\n",
            "**1. Soja**\n",
            "\n",
            "* Produção líder mundial\n",
            "* Principal produto de exportação agrícola\n",
            "* Usada para produzir óleo de soja, farelo de soja e biodiesel\n",
            "\n",
            "**2. Milho**\n",
            "\n",
            "* Segundo maior produtor mundial\n",
            "* Usado para ração animal, produção de etanol e alimentos humanos\n",
            "* Importante para a segurança alimentar nacional\n",
            "\n",
            "**3. Cana de Açúcar**\n",
            "\n",
            "* Maior produtor e exportador mundial\n",
            "* Usada para produzir açúcar, etanol e biocombustíveis\n",
            "* Indústria altamente mecanizada e eficiente \n",
            "\n",
            "\n",
            "Esperando prompt: Cite as maiores empresas do agronegócio do Brasil\n",
            "Resposta: **Maiores Empresas do Agronegócio do Brasil**\n",
            "\n",
            "* **JBS:** Maior processadora de carne bovina do mundo\n",
            "* **Cargill:** Gigante global de commodities agrícolas\n",
            "* **Amaggi:** Maior exportadora de soja do Brasil\n",
            "* **BRF:** Uma das maiores empresas de processamento de aves e suínos do mundo\n",
            "* **Cosan:** Líder na produção de açúcar e etanol\n",
            "* **Raízen:** Joint venture entre a Cosan e a Shell, maior produtora de etanol do mundo\n",
            "* **Marfrig:** Uma das maiores processadoras de carne bovina do Brasil\n",
            "* **Suzano:** Maior produtora de celulose do mundo\n",
            "* **Klabin:** Grande produtora de papel e celulose\n",
            "* **SLC Agrícola:** Uma das maiores produtoras de grãos do Brasil\n",
            "* **Bayer CropScience:** Empresa global de sementes e produtos químicos agrícolas\n",
            "* **Syngenta:** Outra grande empresa global de sementes e produtos químicos agrícolas\n",
            "\n",
            "Essas empresas desempenham um papel fundamental na produção, processamento e exportação de produtos agrícolas brasileiros, contribuindo significativamente para a economia do país. \n",
            "\n",
            "\n",
            "Esperando prompt: E a Louis Dreyfus Company e Caramuru?\n",
            "Resposta: **Louis Dreyfus Company**\n",
            "\n",
            "A Louis Dreyfus Company (LDC) é uma empresa global de commodities agrícolas com sede na França. No Brasil, a LDC é uma das maiores exportadoras de soja, milho e açúcar. A empresa também possui operações de processamento de soja e milho no país.\n",
            "\n",
            "**Caramuru**\n",
            "\n",
            "A Caramuru é uma empresa brasileira de alimentos e agronegócio. É uma das maiores produtoras de milho do Brasil e também possui operações de processamento de milho e soja. A Caramuru também produz e comercializa alimentos para animais, sementes e fertilizantes.\n",
            "\n",
            "Tanto a Louis Dreyfus Company quanto a Caramuru são empresas importantes no agronegócio brasileiro. Elas desempenham um papel significativo na produção, processamento e exportação de produtos agrícolas brasileiros.\n",
            "\n",
            "**Conclusão**\n",
            "\n",
            "A lista atualizada das maiores empresas do agronegócio do Brasil, incluindo a Louis Dreyfus Company e a Caramuru, seria a seguinte:\n",
            "\n",
            "1. JBS\n",
            "2. Cargill\n",
            "3. Amaggi\n",
            "4. BRF\n",
            "5. Cosan\n",
            "6. Raízen\n",
            "7. Marfrig\n",
            "8. Suzano\n",
            "9. Klabin\n",
            "10. SLC Agrícola\n",
            "11. Bayer CropScience\n",
            "12. Syngenta\n",
            "13. Louis Dreyfus Company\n",
            "14. Caramuru \n",
            "\n",
            "\n",
            "Esperando prompt: fim\n"
          ]
        }
      ],
      "source": [
        "chat = model.start_chat(history=[])\n",
        "\n",
        "prompt = input('Esperando prompt: ')\n",
        "\n",
        "while prompt != \"fim\":\n",
        "  response = chat.send_message(prompt)\n",
        "  print(\"Resposta:\", response.text, '\\n\\n')\n",
        "  prompt = input('Esperando prompt: ')"
      ]
    },
    {
      "cell_type": "code",
      "execution_count": 13,
      "metadata": {
        "colab": {
          "base_uri": "https://localhost:8080/"
        },
        "id": "XLAniTTDhHNW",
        "outputId": "8e5d48c1-fe56-4b84-d1d8-b5ae5093f17e"
      },
      "outputs": [
        {
          "data": {
            "text/plain": [
              "ChatSession(\n",
              "    model=genai.GenerativeModel(\n",
              "        model_name='models/gemini-1.0-pro',\n",
              "        generation_config={'candidate_count': 1, 'temperature': 0.5},\n",
              "        safety_settings={<HarmCategory.HARM_CATEGORY_HATE_SPEECH: 8>: <HarmBlockThreshold.BLOCK_NONE: 4>, <HarmCategory.HARM_CATEGORY_HARASSMENT: 7>: <HarmBlockThreshold.BLOCK_NONE: 4>, <HarmCategory.HARM_CATEGORY_SEXUALLY_EXPLICIT: 9>: <HarmBlockThreshold.BLOCK_NONE: 4>, <HarmCategory.HARM_CATEGORY_DANGEROUS_CONTENT: 10>: <HarmBlockThreshold.BLOCK_NONE: 4>},\n",
              "        tools=None,\n",
              "        system_instruction=None,\n",
              "    ),\n",
              "    history=[glm.Content({'parts': [{'text': 'Quais são as...r) no Brasil?'}], 'role': 'user'}), glm.Content({'parts': [{'text': '**Principais...a e eficiente'}], 'role': 'model'}), glm.Content({'parts': [{'text': 'Cite as maio...cio do Brasil'}], 'role': 'user'}), glm.Content({'parts': [{'text': '**Maiores Em...omia do país.'}], 'role': 'model'}), glm.Content({'parts': [{'text': 'E a Louis Dr...y e Caramuru?'}], 'role': 'user'}), glm.Content({'parts': [{'text': '**Louis Drey...n14. Caramuru'}], 'role': 'model'})]\n",
              ")"
            ]
          },
          "execution_count": 13,
          "metadata": {},
          "output_type": "execute_result"
        }
      ],
      "source": [
        "chat"
      ]
    },
    {
      "cell_type": "code",
      "execution_count": 14,
      "metadata": {
        "colab": {
          "base_uri": "https://localhost:8080/"
        },
        "id": "sd8mvW9KghTf",
        "outputId": "3c574812-59a1-4bb0-a22c-a5e775a68326"
      },
      "outputs": [
        {
          "data": {
            "text/plain": [
              "[parts {\n",
              "   text: \"Quais s\\303\\243o as principais ind\\303\\272strias do agroneg\\303\\263cio (Soja, Milho, Cana de A\\303\\247\\303\\272car) no Brasil?\"\n",
              " }\n",
              " role: \"user\",\n",
              " parts {\n",
              "   text: \"**Principais Ind\\303\\272strias do Agroneg\\303\\263cio no Brasil (Soja, Milho, Cana de A\\303\\247\\303\\272car)**\\n\\n**1. Soja**\\n\\n* Produ\\303\\247\\303\\243o l\\303\\255der mundial\\n* Principal produto de exporta\\303\\247\\303\\243o agr\\303\\255cola\\n* Usada para produzir \\303\\263leo de soja, farelo de soja e biodiesel\\n\\n**2. Milho**\\n\\n* Segundo maior produtor mundial\\n* Usado para ra\\303\\247\\303\\243o animal, produ\\303\\247\\303\\243o de etanol e alimentos humanos\\n* Importante para a seguran\\303\\247a alimentar nacional\\n\\n**3. Cana de A\\303\\247\\303\\272car**\\n\\n* Maior produtor e exportador mundial\\n* Usada para produzir a\\303\\247\\303\\272car, etanol e biocombust\\303\\255veis\\n* Ind\\303\\272stria altamente mecanizada e eficiente\"\n",
              " }\n",
              " role: \"model\",\n",
              " parts {\n",
              "   text: \"Cite as maiores empresas do agroneg\\303\\263cio do Brasil\"\n",
              " }\n",
              " role: \"user\",\n",
              " parts {\n",
              "   text: \"**Maiores Empresas do Agroneg\\303\\263cio do Brasil**\\n\\n* **JBS:** Maior processadora de carne bovina do mundo\\n* **Cargill:** Gigante global de commodities agr\\303\\255colas\\n* **Amaggi:** Maior exportadora de soja do Brasil\\n* **BRF:** Uma das maiores empresas de processamento de aves e su\\303\\255nos do mundo\\n* **Cosan:** L\\303\\255der na produ\\303\\247\\303\\243o de a\\303\\247\\303\\272car e etanol\\n* **Ra\\303\\255zen:** Joint venture entre a Cosan e a Shell, maior produtora de etanol do mundo\\n* **Marfrig:** Uma das maiores processadoras de carne bovina do Brasil\\n* **Suzano:** Maior produtora de celulose do mundo\\n* **Klabin:** Grande produtora de papel e celulose\\n* **SLC Agr\\303\\255cola:** Uma das maiores produtoras de gr\\303\\243os do Brasil\\n* **Bayer CropScience:** Empresa global de sementes e produtos qu\\303\\255micos agr\\303\\255colas\\n* **Syngenta:** Outra grande empresa global de sementes e produtos qu\\303\\255micos agr\\303\\255colas\\n\\nEssas empresas desempenham um papel fundamental na produ\\303\\247\\303\\243o, processamento e exporta\\303\\247\\303\\243o de produtos agr\\303\\255colas brasileiros, contribuindo significativamente para a economia do pa\\303\\255s.\"\n",
              " }\n",
              " role: \"model\",\n",
              " parts {\n",
              "   text: \"E a Louis Dreyfus Company e Caramuru?\"\n",
              " }\n",
              " role: \"user\",\n",
              " parts {\n",
              "   text: \"**Louis Dreyfus Company**\\n\\nA Louis Dreyfus Company (LDC) \\303\\251 uma empresa global de commodities agr\\303\\255colas com sede na Fran\\303\\247a. No Brasil, a LDC \\303\\251 uma das maiores exportadoras de soja, milho e a\\303\\247\\303\\272car. A empresa tamb\\303\\251m possui opera\\303\\247\\303\\265es de processamento de soja e milho no pa\\303\\255s.\\n\\n**Caramuru**\\n\\nA Caramuru \\303\\251 uma empresa brasileira de alimentos e agroneg\\303\\263cio. \\303\\211 uma das maiores produtoras de milho do Brasil e tamb\\303\\251m possui opera\\303\\247\\303\\265es de processamento de milho e soja. A Caramuru tamb\\303\\251m produz e comercializa alimentos para animais, sementes e fertilizantes.\\n\\nTanto a Louis Dreyfus Company quanto a Caramuru s\\303\\243o empresas importantes no agroneg\\303\\263cio brasileiro. Elas desempenham um papel significativo na produ\\303\\247\\303\\243o, processamento e exporta\\303\\247\\303\\243o de produtos agr\\303\\255colas brasileiros.\\n\\n**Conclus\\303\\243o**\\n\\nA lista atualizada das maiores empresas do agroneg\\303\\263cio do Brasil, incluindo a Louis Dreyfus Company e a Caramuru, seria a seguinte:\\n\\n1. JBS\\n2. Cargill\\n3. Amaggi\\n4. BRF\\n5. Cosan\\n6. Ra\\303\\255zen\\n7. Marfrig\\n8. Suzano\\n9. Klabin\\n10. SLC Agr\\303\\255cola\\n11. Bayer CropScience\\n12. Syngenta\\n13. Louis Dreyfus Company\\n14. Caramuru\"\n",
              " }\n",
              " role: \"model\"]"
            ]
          },
          "execution_count": 14,
          "metadata": {},
          "output_type": "execute_result"
        }
      ],
      "source": [
        "chat.history"
      ]
    },
    {
      "cell_type": "code",
      "execution_count": 15,
      "metadata": {
        "colab": {
          "base_uri": "https://localhost:8080/",
          "height": 1000
        },
        "id": "dAcbPBocgzeX",
        "outputId": "02de7eb1-7106-4653-f3bc-ea7949a18a83"
      },
      "outputs": [
        {
          "data": {
            "text/markdown": [
              "> **user**: Quais são as principais indústrias do agronegócio (Soja, Milho, Cana de Açúcar) no Brasil?"
            ],
            "text/plain": [
              "<IPython.core.display.Markdown object>"
            ]
          },
          "metadata": {},
          "output_type": "display_data"
        },
        {
          "name": "stdout",
          "output_type": "stream",
          "text": [
            "-------------------------------------------\n"
          ]
        },
        {
          "data": {
            "text/markdown": [
              "> **model**: **Principais Indústrias do Agronegócio no Brasil (Soja, Milho, Cana de Açúcar)**\n",
              "> \n",
              "> **1. Soja**\n",
              "> \n",
              "> * Produção líder mundial\n",
              "> * Principal produto de exportação agrícola\n",
              "> * Usada para produzir óleo de soja, farelo de soja e biodiesel\n",
              "> \n",
              "> **2. Milho**\n",
              "> \n",
              "> * Segundo maior produtor mundial\n",
              "> * Usado para ração animal, produção de etanol e alimentos humanos\n",
              "> * Importante para a segurança alimentar nacional\n",
              "> \n",
              "> **3. Cana de Açúcar**\n",
              "> \n",
              "> * Maior produtor e exportador mundial\n",
              "> * Usada para produzir açúcar, etanol e biocombustíveis\n",
              "> * Indústria altamente mecanizada e eficiente"
            ],
            "text/plain": [
              "<IPython.core.display.Markdown object>"
            ]
          },
          "metadata": {},
          "output_type": "display_data"
        },
        {
          "name": "stdout",
          "output_type": "stream",
          "text": [
            "-------------------------------------------\n"
          ]
        },
        {
          "data": {
            "text/markdown": [
              "> **user**: Cite as maiores empresas do agronegócio do Brasil"
            ],
            "text/plain": [
              "<IPython.core.display.Markdown object>"
            ]
          },
          "metadata": {},
          "output_type": "display_data"
        },
        {
          "name": "stdout",
          "output_type": "stream",
          "text": [
            "-------------------------------------------\n"
          ]
        },
        {
          "data": {
            "text/markdown": [
              "> **model**: **Maiores Empresas do Agronegócio do Brasil**\n",
              "> \n",
              "> * **JBS:** Maior processadora de carne bovina do mundo\n",
              "> * **Cargill:** Gigante global de commodities agrícolas\n",
              "> * **Amaggi:** Maior exportadora de soja do Brasil\n",
              "> * **BRF:** Uma das maiores empresas de processamento de aves e suínos do mundo\n",
              "> * **Cosan:** Líder na produção de açúcar e etanol\n",
              "> * **Raízen:** Joint venture entre a Cosan e a Shell, maior produtora de etanol do mundo\n",
              "> * **Marfrig:** Uma das maiores processadoras de carne bovina do Brasil\n",
              "> * **Suzano:** Maior produtora de celulose do mundo\n",
              "> * **Klabin:** Grande produtora de papel e celulose\n",
              "> * **SLC Agrícola:** Uma das maiores produtoras de grãos do Brasil\n",
              "> * **Bayer CropScience:** Empresa global de sementes e produtos químicos agrícolas\n",
              "> * **Syngenta:** Outra grande empresa global de sementes e produtos químicos agrícolas\n",
              "> \n",
              "> Essas empresas desempenham um papel fundamental na produção, processamento e exportação de produtos agrícolas brasileiros, contribuindo significativamente para a economia do país."
            ],
            "text/plain": [
              "<IPython.core.display.Markdown object>"
            ]
          },
          "metadata": {},
          "output_type": "display_data"
        },
        {
          "name": "stdout",
          "output_type": "stream",
          "text": [
            "-------------------------------------------\n"
          ]
        },
        {
          "data": {
            "text/markdown": [
              "> **user**: E a Louis Dreyfus Company e Caramuru?"
            ],
            "text/plain": [
              "<IPython.core.display.Markdown object>"
            ]
          },
          "metadata": {},
          "output_type": "display_data"
        },
        {
          "name": "stdout",
          "output_type": "stream",
          "text": [
            "-------------------------------------------\n"
          ]
        },
        {
          "data": {
            "text/markdown": [
              "> **model**: **Louis Dreyfus Company**\n",
              "> \n",
              "> A Louis Dreyfus Company (LDC) é uma empresa global de commodities agrícolas com sede na França. No Brasil, a LDC é uma das maiores exportadoras de soja, milho e açúcar. A empresa também possui operações de processamento de soja e milho no país.\n",
              "> \n",
              "> **Caramuru**\n",
              "> \n",
              "> A Caramuru é uma empresa brasileira de alimentos e agronegócio. É uma das maiores produtoras de milho do Brasil e também possui operações de processamento de milho e soja. A Caramuru também produz e comercializa alimentos para animais, sementes e fertilizantes.\n",
              "> \n",
              "> Tanto a Louis Dreyfus Company quanto a Caramuru são empresas importantes no agronegócio brasileiro. Elas desempenham um papel significativo na produção, processamento e exportação de produtos agrícolas brasileiros.\n",
              "> \n",
              "> **Conclusão**\n",
              "> \n",
              "> A lista atualizada das maiores empresas do agronegócio do Brasil, incluindo a Louis Dreyfus Company e a Caramuru, seria a seguinte:\n",
              "> \n",
              "> 1. JBS\n",
              "> 2. Cargill\n",
              "> 3. Amaggi\n",
              "> 4. BRF\n",
              "> 5. Cosan\n",
              "> 6. Raízen\n",
              "> 7. Marfrig\n",
              "> 8. Suzano\n",
              "> 9. Klabin\n",
              "> 10. SLC Agrícola\n",
              "> 11. Bayer CropScience\n",
              "> 12. Syngenta\n",
              "> 13. Louis Dreyfus Company\n",
              "> 14. Caramuru"
            ],
            "text/plain": [
              "<IPython.core.display.Markdown object>"
            ]
          },
          "metadata": {},
          "output_type": "display_data"
        },
        {
          "name": "stdout",
          "output_type": "stream",
          "text": [
            "-------------------------------------------\n"
          ]
        }
      ],
      "source": [
        "#Melhorando a visualização\n",
        "#Código disponível em https://ai.google.dev/tutorials/python_quickstart#import_packages\n",
        "import textwrap\n",
        "from IPython.display import display\n",
        "from IPython.display import Markdown\n",
        "\n",
        "def to_markdown(text):\n",
        "  text = text.replace('•', '  *')\n",
        "  return Markdown(textwrap.indent(text, '> ', predicate=lambda _: True))\n",
        "\n",
        "#Imprimindo o histórico\n",
        "for message in chat.history:\n",
        "  display(to_markdown(f'**{message.role}**: {message.parts[0].text}'))\n",
        "  print('-------------------------------------------')"
      ]
    }
  ],
  "metadata": {
    "colab": {
      "provenance": []
    },
    "kernelspec": {
      "display_name": "Python 3",
      "name": "python3"
    },
    "language_info": {
      "name": "python"
    }
  },
  "nbformat": 4,
  "nbformat_minor": 0
}
